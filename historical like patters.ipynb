{
 "cells": [
  {
   "cell_type": "markdown",
   "id": "71cc986d",
   "metadata": {},
   "source": [
    "<h1> Determine historical periods highly correlated with a recent one (target)"
   ]
  },
  {
   "cell_type": "code",
   "execution_count": 27,
   "id": "21aac0af",
   "metadata": {},
   "outputs": [],
   "source": [
    "import yfinance as yf\n",
    "import datetime as dt\n",
    "import pandas as pd\n",
    "import statistics as stats\n",
    "import plotly.express as px\n",
    "\n",
    "target_sample_start_date = '2022-02-24'\n",
    "target_sample_end_date = '2022-09-26'\n",
    "asset = '^GSPC'\n",
    "correlation_coefficient_threshold = 0.75\n",
    "target_sample_start_date = dt.datetime.strptime(target_sample_start_date, '%Y-%m-%d')\n",
    "target_sample_end_date = dt.datetime.strptime(target_sample_end_date, '%Y-%m-%d')"
   ]
  },
  {
   "cell_type": "code",
   "execution_count": 28,
   "id": "e6f8edd4",
   "metadata": {},
   "outputs": [],
   "source": [
    "def sort_dict_by_desc_values(dictionary):\n",
    "    # deliver tuples of dates (dict keys) sorted in the descending order of correl coeffs\n",
    "    \n",
    "    return {k: v for k, v in sorted(dictionary.items(), key=lambda item: item[1], reverse=True)}"
   ]
  },
  {
   "cell_type": "code",
   "execution_count": 29,
   "id": "dfa9e7d1",
   "metadata": {},
   "outputs": [],
   "source": [
    "asset_object = yf.Ticker(asset)\n",
    "df = asset_object.history(start='1900-01-01')\n",
    "df.reset_index(inplace=True)\n",
    "df = df[['Date', 'Close', 'Low']].iloc[:]\n",
    "df.Close = round(df.Close.astype('float64'), 2)\n",
    "df.Low = round(df.Low.astype('float64'), 2)\n",
    "target_series = df.Close[df.Date.between(target_sample_start_date, target_sample_end_date)].values.tolist()\n",
    "target_series_length = len(target_series)"
   ]
  },
  {
   "cell_type": "code",
   "execution_count": 30,
   "id": "f3d5f398",
   "metadata": {},
   "outputs": [
    {
     "data": {
      "text/plain": [
       "<bound method NDFrame.head of             Date    Close      Low    dma10\n",
       "0     1927-12-30    17.66    17.66      NaN\n",
       "1     1928-01-03    17.76    17.76      NaN\n",
       "2     1928-01-04    17.72    17.72      NaN\n",
       "3     1928-01-05    17.55    17.55      NaN\n",
       "4     1928-01-06    17.66    17.66      NaN\n",
       "...          ...      ...      ...      ...\n",
       "23645 2022-02-16  4475.01  4429.68  4484.10\n",
       "23646 2022-02-17  4380.26  4373.81  4474.38\n",
       "23647 2022-02-18  4348.87  4327.22  4459.22\n",
       "23648 2022-02-22  4304.76  4267.11  4441.31\n",
       "23649 2022-02-23  4225.50  4221.51  4411.70\n",
       "\n",
       "[23650 rows x 4 columns]>"
      ]
     },
     "execution_count": 30,
     "metadata": {},
     "output_type": "execute_result"
    }
   ],
   "source": [
    "df = df[df.Date < target_sample_start_date]\n",
    "df['dma10'] = round(df['Close'].rolling(10).mean(), 2)\n",
    "large_series_dates = df.Date.values.tolist()\n",
    "large_series_quotes = df.Close.values.tolist()\n",
    "large_series_dates = [dt.datetime.fromtimestamp(x/1000000000).replace(hour=0) for x in large_series_dates]\n",
    "df.head"
   ]
  },
  {
   "cell_type": "code",
   "execution_count": 31,
   "id": "5989382d",
   "metadata": {},
   "outputs": [],
   "source": [
    "results = {}\n",
    "i = 0\n",
    "while len(large_series_quotes) >= target_series_length + i:\n",
    "    r = stats.correlation(target_series, large_series_quotes[i:i+target_series_length])\n",
    "    if r >= correlation_coefficient_threshold:\n",
    "        result_period_start, result_period_end = (large_series_dates[i], \\\n",
    "                                                  large_series_dates[i+target_series_length-1])\n",
    "        results[result_period_start, result_period_end] = round(r, 2)\n",
    "        i += target_series_length\n",
    "    else:\n",
    "        i += 1\n",
    "results = sort_dict_by_desc_values(results)"
   ]
  },
  {
   "cell_type": "code",
   "execution_count": 32,
   "id": "4398c8aa",
   "metadata": {},
   "outputs": [
    {
     "name": "stdout",
     "output_type": "stream",
     "text": [
      "There are 27 periods for ^GSPC with a Pearson-r of minimum 0.75 with the target period btw 2022-02-24 and 2022-09-26 (desc order of r):\n",
      "\n",
      "1971-03-23 -- 1971-10-20: r=0.77\n",
      "1929-08-09 -- 1930-03-14: r=0.76\n",
      "1953-01-29 -- 1953-08-27: r=0.76\n",
      "1956-06-29 -- 1957-01-31: r=0.76\n",
      "1969-09-22 -- 1970-04-22: r=0.76\n",
      "1973-09-07 -- 1974-04-08: r=0.76\n",
      "1975-05-21 -- 1975-12-18: r=0.76\n",
      "1977-06-10 -- 1978-01-11: r=0.76\n",
      "1978-07-31 -- 1979-02-28: r=0.76\n",
      "1990-06-01 -- 1990-12-31: r=0.76\n",
      "1993-12-10 -- 1994-07-13: r=0.76\n",
      "2007-11-01 -- 2008-06-04: r=0.76\n",
      "2008-07-16 -- 2009-02-13: r=0.76\n",
      "2011-05-23 -- 2011-12-20: r=0.76\n",
      "1931-01-20 -- 1931-08-18: r=0.75\n",
      "1931-09-16 -- 1932-04-20: r=0.75\n",
      "1937-01-26 -- 1937-08-26: r=0.75\n",
      "1941-08-07 -- 1942-03-13: r=0.75\n",
      "1946-06-18 -- 1947-01-20: r=0.75\n",
      "1959-06-29 -- 1960-01-28: r=0.75\n",
      "1962-02-15 -- 1962-09-17: r=0.75\n",
      "1966-05-27 -- 1966-12-28: r=0.75\n",
      "1968-10-25 -- 1969-06-10: r=0.75\n",
      "1974-05-06 -- 1974-12-03: r=0.75\n",
      "1981-06-19 -- 1982-01-19: r=0.75\n",
      "1987-08-04 -- 1988-03-03: r=0.75\n",
      "2000-07-27 -- 2001-02-27: r=0.75\n"
     ]
    }
   ],
   "source": [
    "print(f'There are {len(results)} periods for {asset} with a Pearson-r of minimum \\\n",
    "{correlation_coefficient_threshold} with the target period btw {target_sample_start_date.date()} and \\\n",
    "{target_sample_end_date.date()} (desc order of r):\\n')\n",
    "\n",
    "for k, v in results.items():\n",
    "    print(f'{k[0].date()} -- {k[1].date()}: r={v}')   \n"
   ]
  },
  {
   "cell_type": "code",
   "execution_count": 33,
   "id": "f875865a",
   "metadata": {},
   "outputs": [
    {
     "data": {
      "application/vnd.plotly.v1+json": {
       "config": {
        "plotlyServerURL": "https://plot.ly"
       },
       "data": [
        {
         "hovertemplate": "variable=Close<br>Date=%{x}<br>value=%{y}<extra></extra>",
         "legendgroup": "Close",
         "line": {
          "color": "#636efa",
          "dash": "solid"
         },
         "marker": {
          "symbol": "circle"
         },
         "mode": "lines",
         "name": "Close",
         "orientation": "v",
         "showlegend": true,
         "type": "scatter",
         "x": [
          "1971-03-23T00:00:00",
          "1971-03-24T00:00:00",
          "1971-03-25T00:00:00",
          "1971-03-26T00:00:00",
          "1971-03-29T00:00:00",
          "1971-03-30T00:00:00",
          "1971-03-31T00:00:00",
          "1971-04-01T00:00:00",
          "1971-04-02T00:00:00",
          "1971-04-05T00:00:00",
          "1971-04-06T00:00:00",
          "1971-04-07T00:00:00",
          "1971-04-08T00:00:00",
          "1971-04-12T00:00:00",
          "1971-04-13T00:00:00",
          "1971-04-14T00:00:00",
          "1971-04-15T00:00:00",
          "1971-04-16T00:00:00",
          "1971-04-19T00:00:00",
          "1971-04-20T00:00:00",
          "1971-04-21T00:00:00",
          "1971-04-22T00:00:00",
          "1971-04-23T00:00:00",
          "1971-04-26T00:00:00",
          "1971-04-27T00:00:00",
          "1971-04-28T00:00:00",
          "1971-04-29T00:00:00",
          "1971-04-30T00:00:00",
          "1971-05-03T00:00:00",
          "1971-05-04T00:00:00",
          "1971-05-05T00:00:00",
          "1971-05-06T00:00:00",
          "1971-05-07T00:00:00",
          "1971-05-10T00:00:00",
          "1971-05-11T00:00:00",
          "1971-05-12T00:00:00",
          "1971-05-13T00:00:00",
          "1971-05-14T00:00:00",
          "1971-05-17T00:00:00",
          "1971-05-18T00:00:00",
          "1971-05-19T00:00:00",
          "1971-05-20T00:00:00",
          "1971-05-21T00:00:00",
          "1971-05-24T00:00:00",
          "1971-05-25T00:00:00",
          "1971-05-26T00:00:00",
          "1971-05-27T00:00:00",
          "1971-05-28T00:00:00",
          "1971-06-01T00:00:00",
          "1971-06-02T00:00:00",
          "1971-06-03T00:00:00",
          "1971-06-04T00:00:00",
          "1971-06-07T00:00:00",
          "1971-06-08T00:00:00",
          "1971-06-09T00:00:00",
          "1971-06-10T00:00:00",
          "1971-06-11T00:00:00",
          "1971-06-14T00:00:00",
          "1971-06-15T00:00:00",
          "1971-06-16T00:00:00",
          "1971-06-17T00:00:00",
          "1971-06-18T00:00:00",
          "1971-06-21T00:00:00",
          "1971-06-22T00:00:00",
          "1971-06-23T00:00:00",
          "1971-06-24T00:00:00",
          "1971-06-25T00:00:00",
          "1971-06-28T00:00:00",
          "1971-06-29T00:00:00",
          "1971-06-30T00:00:00",
          "1971-07-01T00:00:00",
          "1971-07-02T00:00:00",
          "1971-07-06T00:00:00",
          "1971-07-07T00:00:00",
          "1971-07-08T00:00:00",
          "1971-07-09T00:00:00",
          "1971-07-12T00:00:00",
          "1971-07-13T00:00:00",
          "1971-07-14T00:00:00",
          "1971-07-15T00:00:00",
          "1971-07-16T00:00:00",
          "1971-07-19T00:00:00",
          "1971-07-20T00:00:00",
          "1971-07-21T00:00:00",
          "1971-07-22T00:00:00",
          "1971-07-23T00:00:00",
          "1971-07-26T00:00:00",
          "1971-07-27T00:00:00",
          "1971-07-28T00:00:00",
          "1971-07-29T00:00:00",
          "1971-07-30T00:00:00",
          "1971-08-02T00:00:00",
          "1971-08-03T00:00:00",
          "1971-08-04T00:00:00",
          "1971-08-05T00:00:00",
          "1971-08-06T00:00:00",
          "1971-08-09T00:00:00",
          "1971-08-10T00:00:00",
          "1971-08-11T00:00:00",
          "1971-08-12T00:00:00",
          "1971-08-13T00:00:00",
          "1971-08-16T00:00:00",
          "1971-08-17T00:00:00",
          "1971-08-18T00:00:00",
          "1971-08-19T00:00:00",
          "1971-08-20T00:00:00",
          "1971-08-23T00:00:00",
          "1971-08-24T00:00:00",
          "1971-08-25T00:00:00",
          "1971-08-26T00:00:00",
          "1971-08-27T00:00:00",
          "1971-08-30T00:00:00",
          "1971-08-31T00:00:00",
          "1971-09-01T00:00:00",
          "1971-09-02T00:00:00",
          "1971-09-03T00:00:00",
          "1971-09-07T00:00:00",
          "1971-09-08T00:00:00",
          "1971-09-09T00:00:00",
          "1971-09-10T00:00:00",
          "1971-09-13T00:00:00",
          "1971-09-14T00:00:00",
          "1971-09-15T00:00:00",
          "1971-09-16T00:00:00",
          "1971-09-17T00:00:00",
          "1971-09-20T00:00:00",
          "1971-09-21T00:00:00",
          "1971-09-22T00:00:00",
          "1971-09-23T00:00:00",
          "1971-09-24T00:00:00",
          "1971-09-27T00:00:00",
          "1971-09-28T00:00:00",
          "1971-09-29T00:00:00",
          "1971-09-30T00:00:00",
          "1971-10-01T00:00:00",
          "1971-10-04T00:00:00",
          "1971-10-05T00:00:00",
          "1971-10-06T00:00:00",
          "1971-10-07T00:00:00",
          "1971-10-08T00:00:00",
          "1971-10-11T00:00:00",
          "1971-10-12T00:00:00",
          "1971-10-13T00:00:00",
          "1971-10-14T00:00:00",
          "1971-10-15T00:00:00",
          "1971-10-18T00:00:00",
          "1971-10-19T00:00:00",
          "1971-10-20T00:00:00",
          "1971-10-21T00:00:00",
          "1971-10-22T00:00:00",
          "1971-10-25T00:00:00",
          "1971-10-26T00:00:00",
          "1971-10-27T00:00:00",
          "1971-10-28T00:00:00",
          "1971-10-29T00:00:00",
          "1971-11-01T00:00:00",
          "1971-11-02T00:00:00",
          "1971-11-03T00:00:00",
          "1971-11-04T00:00:00",
          "1971-11-05T00:00:00",
          "1971-11-08T00:00:00",
          "1971-11-09T00:00:00",
          "1971-11-10T00:00:00",
          "1971-11-11T00:00:00",
          "1971-11-12T00:00:00",
          "1971-11-15T00:00:00",
          "1971-11-16T00:00:00",
          "1971-11-17T00:00:00",
          "1971-11-18T00:00:00",
          "1971-11-19T00:00:00",
          "1971-11-22T00:00:00",
          "1971-11-23T00:00:00",
          "1971-11-24T00:00:00",
          "1971-11-26T00:00:00",
          "1971-11-29T00:00:00",
          "1971-11-30T00:00:00",
          "1971-12-01T00:00:00",
          "1971-12-02T00:00:00",
          "1971-12-03T00:00:00",
          "1971-12-06T00:00:00",
          "1971-12-07T00:00:00",
          "1971-12-08T00:00:00",
          "1971-12-09T00:00:00",
          "1971-12-10T00:00:00",
          "1971-12-13T00:00:00",
          "1971-12-14T00:00:00",
          "1971-12-15T00:00:00",
          "1971-12-16T00:00:00",
          "1971-12-17T00:00:00",
          "1971-12-20T00:00:00",
          "1971-12-21T00:00:00",
          "1971-12-22T00:00:00",
          "1971-12-23T00:00:00",
          "1971-12-27T00:00:00",
          "1971-12-28T00:00:00",
          "1971-12-29T00:00:00",
          "1971-12-30T00:00:00",
          "1971-12-31T00:00:00",
          "1972-01-03T00:00:00",
          "1972-01-04T00:00:00",
          "1972-01-05T00:00:00",
          "1972-01-06T00:00:00",
          "1972-01-07T00:00:00",
          "1972-01-10T00:00:00",
          "1972-01-11T00:00:00",
          "1972-01-12T00:00:00",
          "1972-01-13T00:00:00",
          "1972-01-14T00:00:00",
          "1972-01-17T00:00:00",
          "1972-01-18T00:00:00",
          "1972-01-19T00:00:00",
          "1972-01-20T00:00:00",
          "1972-01-21T00:00:00",
          "1972-01-24T00:00:00",
          "1972-01-25T00:00:00",
          "1972-01-26T00:00:00",
          "1972-01-27T00:00:00",
          "1972-01-28T00:00:00",
          "1972-01-31T00:00:00",
          "1972-02-01T00:00:00",
          "1972-02-02T00:00:00",
          "1972-02-03T00:00:00",
          "1972-02-04T00:00:00",
          "1972-02-07T00:00:00",
          "1972-02-08T00:00:00",
          "1972-02-09T00:00:00",
          "1972-02-10T00:00:00",
          "1972-02-11T00:00:00",
          "1972-02-14T00:00:00",
          "1972-02-15T00:00:00",
          "1972-02-16T00:00:00",
          "1972-02-17T00:00:00",
          "1972-02-18T00:00:00",
          "1972-02-22T00:00:00",
          "1972-02-23T00:00:00",
          "1972-02-24T00:00:00",
          "1972-02-25T00:00:00",
          "1972-02-28T00:00:00",
          "1972-02-29T00:00:00",
          "1972-03-01T00:00:00",
          "1972-03-02T00:00:00",
          "1972-03-03T00:00:00",
          "1972-03-06T00:00:00",
          "1972-03-07T00:00:00",
          "1972-03-08T00:00:00",
          "1972-03-09T00:00:00",
          "1972-03-10T00:00:00",
          "1972-03-13T00:00:00",
          "1972-03-14T00:00:00",
          "1972-03-15T00:00:00",
          "1972-03-16T00:00:00",
          "1972-03-17T00:00:00",
          "1972-03-20T00:00:00",
          "1972-03-21T00:00:00",
          "1972-03-22T00:00:00",
          "1972-03-23T00:00:00",
          "1972-03-24T00:00:00",
          "1972-03-27T00:00:00",
          "1972-03-28T00:00:00"
         ],
         "xaxis": "x",
         "y": [
          100.28,
          99.62,
          99.61,
          99.95,
          100.03,
          100.26,
          100.31,
          100.39,
          100.56,
          100.79,
          101.51,
          101.98,
          102.1,
          102.88,
          102.98,
          103.37,
          103.52,
          103.49,
          104.01,
          103.61,
          103.36,
          103.56,
          104.05,
          103.94,
          104.59,
          104.77,
          104.63,
          103.95,
          103.29,
          103.79,
          103.78,
          103.23,
          102.87,
          102.36,
          102.62,
          102.9,
          102.69,
          102.21,
          100.69,
          100.83,
          101.07,
          101.31,
          100.99,
          100.13,
          99.47,
          99.59,
          99.4,
          99.63,
          100.2,
          100.96,
          101.01,
          101.3,
          101.09,
          100.32,
          100.29,
          100.64,
          101.07,
          100.22,
          100.32,
          100.52,
          100.5,
          98.97,
          97.87,
          97.59,
          98.41,
          98.13,
          97.99,
          97.74,
          98.82,
          98.7,
          99.78,
          99.78,
          99.76,
          100.04,
          100.34,
          100.69,
          100.82,
          99.5,
          99.22,
          99.28,
          99.11,
          98.93,
          99.32,
          99.28,
          99.11,
          98.94,
          98.14,
          97.78,
          97.07,
          96.02,
          95.58,
          95.96,
          94.51,
          93.89,
          94.09,
          94.25,
          93.53,
          93.54,
          94.66,
          96,
          95.69,
          98.76,
          99.99,
          98.6,
          98.16,
          98.33,
          99.25,
          100.4,
          100.41,
          100.24,
          100.48,
          99.52,
          99.03,
          99.07,
          99.29,
          100.69,
          101.15,
          101.34,
          100.8,
          100.42,
          100.07,
          99.34,
          99.77,
          99.66,
          99.96,
          99.68,
          99.34,
          98.47,
          98.38,
          98.15,
          97.62,
          97.88,
          97.9,
          98.34,
          98.93,
          99.21,
          99.11,
          99.82,
          100.02,
          99.36,
          99.21,
          99.57,
          99.03,
          98.13,
          97.79,
          97.35,
          97,
          95.65,
          95.6,
          95.57,
          95.1,
          94.74,
          93.79,
          93.96,
          94.23,
          92.8,
          93.18,
          94.91,
          94.79,
          94.46,
          94.39,
          94.46,
          93.41,
          92.12,
          92.12,
          91.81,
          92.71,
          92.85,
          92.13,
          91.61,
          90.79,
          90.16,
          90.33,
          91.94,
          93.41,
          93.99,
          95.44,
          95.84,
          97.06,
          96.51,
          96.87,
          96.92,
          96.96,
          97.69,
          97.97,
          97.67,
          98.54,
          99.74,
          100.26,
          101.55,
          101.8,
          101.18,
          100.74,
          100.95,
          101.95,
          102.21,
          101.78,
          102.09,
          101.67,
          102.09,
          103.06,
          103.51,
          103.47,
          103.32,
          103.65,
          103.59,
          102.99,
          103.39,
          103.7,
          104.05,
          103.88,
          103.88,
          103.65,
          102.57,
          102.7,
          102.5,
          103.5,
          104.16,
          103.94,
          104.01,
          104.68,
          104.64,
          104.86,
          104.54,
          104.74,
          105.55,
          105.59,
          105.08,
          104.59,
          105.03,
          105.62,
          105.59,
          105.28,
          105.29,
          105.38,
          105.45,
          106.18,
          106.19,
          106.57,
          107.35,
          107.32,
          107.94,
          108.77,
          108.87,
          108.96,
          108.94,
          108.38,
          107.33,
          107.61,
          107.75,
          107.5,
          107.92,
          107.59,
          106.69,
          106.84,
          107.75,
          107.52,
          107.3,
          107.17
         ],
         "yaxis": "y"
        }
       ],
       "layout": {
        "legend": {
         "title": {
          "text": "variable"
         },
         "tracegroupgap": 0
        },
        "margin": {
         "t": 60
        },
        "template": {
         "data": {
          "bar": [
           {
            "error_x": {
             "color": "#2a3f5f"
            },
            "error_y": {
             "color": "#2a3f5f"
            },
            "marker": {
             "line": {
              "color": "#E5ECF6",
              "width": 0.5
             },
             "pattern": {
              "fillmode": "overlay",
              "size": 10,
              "solidity": 0.2
             }
            },
            "type": "bar"
           }
          ],
          "barpolar": [
           {
            "marker": {
             "line": {
              "color": "#E5ECF6",
              "width": 0.5
             },
             "pattern": {
              "fillmode": "overlay",
              "size": 10,
              "solidity": 0.2
             }
            },
            "type": "barpolar"
           }
          ],
          "carpet": [
           {
            "aaxis": {
             "endlinecolor": "#2a3f5f",
             "gridcolor": "white",
             "linecolor": "white",
             "minorgridcolor": "white",
             "startlinecolor": "#2a3f5f"
            },
            "baxis": {
             "endlinecolor": "#2a3f5f",
             "gridcolor": "white",
             "linecolor": "white",
             "minorgridcolor": "white",
             "startlinecolor": "#2a3f5f"
            },
            "type": "carpet"
           }
          ],
          "choropleth": [
           {
            "colorbar": {
             "outlinewidth": 0,
             "ticks": ""
            },
            "type": "choropleth"
           }
          ],
          "contour": [
           {
            "colorbar": {
             "outlinewidth": 0,
             "ticks": ""
            },
            "colorscale": [
             [
              0,
              "#0d0887"
             ],
             [
              0.1111111111111111,
              "#46039f"
             ],
             [
              0.2222222222222222,
              "#7201a8"
             ],
             [
              0.3333333333333333,
              "#9c179e"
             ],
             [
              0.4444444444444444,
              "#bd3786"
             ],
             [
              0.5555555555555556,
              "#d8576b"
             ],
             [
              0.6666666666666666,
              "#ed7953"
             ],
             [
              0.7777777777777778,
              "#fb9f3a"
             ],
             [
              0.8888888888888888,
              "#fdca26"
             ],
             [
              1,
              "#f0f921"
             ]
            ],
            "type": "contour"
           }
          ],
          "contourcarpet": [
           {
            "colorbar": {
             "outlinewidth": 0,
             "ticks": ""
            },
            "type": "contourcarpet"
           }
          ],
          "heatmap": [
           {
            "colorbar": {
             "outlinewidth": 0,
             "ticks": ""
            },
            "colorscale": [
             [
              0,
              "#0d0887"
             ],
             [
              0.1111111111111111,
              "#46039f"
             ],
             [
              0.2222222222222222,
              "#7201a8"
             ],
             [
              0.3333333333333333,
              "#9c179e"
             ],
             [
              0.4444444444444444,
              "#bd3786"
             ],
             [
              0.5555555555555556,
              "#d8576b"
             ],
             [
              0.6666666666666666,
              "#ed7953"
             ],
             [
              0.7777777777777778,
              "#fb9f3a"
             ],
             [
              0.8888888888888888,
              "#fdca26"
             ],
             [
              1,
              "#f0f921"
             ]
            ],
            "type": "heatmap"
           }
          ],
          "heatmapgl": [
           {
            "colorbar": {
             "outlinewidth": 0,
             "ticks": ""
            },
            "colorscale": [
             [
              0,
              "#0d0887"
             ],
             [
              0.1111111111111111,
              "#46039f"
             ],
             [
              0.2222222222222222,
              "#7201a8"
             ],
             [
              0.3333333333333333,
              "#9c179e"
             ],
             [
              0.4444444444444444,
              "#bd3786"
             ],
             [
              0.5555555555555556,
              "#d8576b"
             ],
             [
              0.6666666666666666,
              "#ed7953"
             ],
             [
              0.7777777777777778,
              "#fb9f3a"
             ],
             [
              0.8888888888888888,
              "#fdca26"
             ],
             [
              1,
              "#f0f921"
             ]
            ],
            "type": "heatmapgl"
           }
          ],
          "histogram": [
           {
            "marker": {
             "pattern": {
              "fillmode": "overlay",
              "size": 10,
              "solidity": 0.2
             }
            },
            "type": "histogram"
           }
          ],
          "histogram2d": [
           {
            "colorbar": {
             "outlinewidth": 0,
             "ticks": ""
            },
            "colorscale": [
             [
              0,
              "#0d0887"
             ],
             [
              0.1111111111111111,
              "#46039f"
             ],
             [
              0.2222222222222222,
              "#7201a8"
             ],
             [
              0.3333333333333333,
              "#9c179e"
             ],
             [
              0.4444444444444444,
              "#bd3786"
             ],
             [
              0.5555555555555556,
              "#d8576b"
             ],
             [
              0.6666666666666666,
              "#ed7953"
             ],
             [
              0.7777777777777778,
              "#fb9f3a"
             ],
             [
              0.8888888888888888,
              "#fdca26"
             ],
             [
              1,
              "#f0f921"
             ]
            ],
            "type": "histogram2d"
           }
          ],
          "histogram2dcontour": [
           {
            "colorbar": {
             "outlinewidth": 0,
             "ticks": ""
            },
            "colorscale": [
             [
              0,
              "#0d0887"
             ],
             [
              0.1111111111111111,
              "#46039f"
             ],
             [
              0.2222222222222222,
              "#7201a8"
             ],
             [
              0.3333333333333333,
              "#9c179e"
             ],
             [
              0.4444444444444444,
              "#bd3786"
             ],
             [
              0.5555555555555556,
              "#d8576b"
             ],
             [
              0.6666666666666666,
              "#ed7953"
             ],
             [
              0.7777777777777778,
              "#fb9f3a"
             ],
             [
              0.8888888888888888,
              "#fdca26"
             ],
             [
              1,
              "#f0f921"
             ]
            ],
            "type": "histogram2dcontour"
           }
          ],
          "mesh3d": [
           {
            "colorbar": {
             "outlinewidth": 0,
             "ticks": ""
            },
            "type": "mesh3d"
           }
          ],
          "parcoords": [
           {
            "line": {
             "colorbar": {
              "outlinewidth": 0,
              "ticks": ""
             }
            },
            "type": "parcoords"
           }
          ],
          "pie": [
           {
            "automargin": true,
            "type": "pie"
           }
          ],
          "scatter": [
           {
            "fillpattern": {
             "fillmode": "overlay",
             "size": 10,
             "solidity": 0.2
            },
            "type": "scatter"
           }
          ],
          "scatter3d": [
           {
            "line": {
             "colorbar": {
              "outlinewidth": 0,
              "ticks": ""
             }
            },
            "marker": {
             "colorbar": {
              "outlinewidth": 0,
              "ticks": ""
             }
            },
            "type": "scatter3d"
           }
          ],
          "scattercarpet": [
           {
            "marker": {
             "colorbar": {
              "outlinewidth": 0,
              "ticks": ""
             }
            },
            "type": "scattercarpet"
           }
          ],
          "scattergeo": [
           {
            "marker": {
             "colorbar": {
              "outlinewidth": 0,
              "ticks": ""
             }
            },
            "type": "scattergeo"
           }
          ],
          "scattergl": [
           {
            "marker": {
             "colorbar": {
              "outlinewidth": 0,
              "ticks": ""
             }
            },
            "type": "scattergl"
           }
          ],
          "scattermapbox": [
           {
            "marker": {
             "colorbar": {
              "outlinewidth": 0,
              "ticks": ""
             }
            },
            "type": "scattermapbox"
           }
          ],
          "scatterpolar": [
           {
            "marker": {
             "colorbar": {
              "outlinewidth": 0,
              "ticks": ""
             }
            },
            "type": "scatterpolar"
           }
          ],
          "scatterpolargl": [
           {
            "marker": {
             "colorbar": {
              "outlinewidth": 0,
              "ticks": ""
             }
            },
            "type": "scatterpolargl"
           }
          ],
          "scatterternary": [
           {
            "marker": {
             "colorbar": {
              "outlinewidth": 0,
              "ticks": ""
             }
            },
            "type": "scatterternary"
           }
          ],
          "surface": [
           {
            "colorbar": {
             "outlinewidth": 0,
             "ticks": ""
            },
            "colorscale": [
             [
              0,
              "#0d0887"
             ],
             [
              0.1111111111111111,
              "#46039f"
             ],
             [
              0.2222222222222222,
              "#7201a8"
             ],
             [
              0.3333333333333333,
              "#9c179e"
             ],
             [
              0.4444444444444444,
              "#bd3786"
             ],
             [
              0.5555555555555556,
              "#d8576b"
             ],
             [
              0.6666666666666666,
              "#ed7953"
             ],
             [
              0.7777777777777778,
              "#fb9f3a"
             ],
             [
              0.8888888888888888,
              "#fdca26"
             ],
             [
              1,
              "#f0f921"
             ]
            ],
            "type": "surface"
           }
          ],
          "table": [
           {
            "cells": {
             "fill": {
              "color": "#EBF0F8"
             },
             "line": {
              "color": "white"
             }
            },
            "header": {
             "fill": {
              "color": "#C8D4E3"
             },
             "line": {
              "color": "white"
             }
            },
            "type": "table"
           }
          ]
         },
         "layout": {
          "annotationdefaults": {
           "arrowcolor": "#2a3f5f",
           "arrowhead": 0,
           "arrowwidth": 1
          },
          "autotypenumbers": "strict",
          "coloraxis": {
           "colorbar": {
            "outlinewidth": 0,
            "ticks": ""
           }
          },
          "colorscale": {
           "diverging": [
            [
             0,
             "#8e0152"
            ],
            [
             0.1,
             "#c51b7d"
            ],
            [
             0.2,
             "#de77ae"
            ],
            [
             0.3,
             "#f1b6da"
            ],
            [
             0.4,
             "#fde0ef"
            ],
            [
             0.5,
             "#f7f7f7"
            ],
            [
             0.6,
             "#e6f5d0"
            ],
            [
             0.7,
             "#b8e186"
            ],
            [
             0.8,
             "#7fbc41"
            ],
            [
             0.9,
             "#4d9221"
            ],
            [
             1,
             "#276419"
            ]
           ],
           "sequential": [
            [
             0,
             "#0d0887"
            ],
            [
             0.1111111111111111,
             "#46039f"
            ],
            [
             0.2222222222222222,
             "#7201a8"
            ],
            [
             0.3333333333333333,
             "#9c179e"
            ],
            [
             0.4444444444444444,
             "#bd3786"
            ],
            [
             0.5555555555555556,
             "#d8576b"
            ],
            [
             0.6666666666666666,
             "#ed7953"
            ],
            [
             0.7777777777777778,
             "#fb9f3a"
            ],
            [
             0.8888888888888888,
             "#fdca26"
            ],
            [
             1,
             "#f0f921"
            ]
           ],
           "sequentialminus": [
            [
             0,
             "#0d0887"
            ],
            [
             0.1111111111111111,
             "#46039f"
            ],
            [
             0.2222222222222222,
             "#7201a8"
            ],
            [
             0.3333333333333333,
             "#9c179e"
            ],
            [
             0.4444444444444444,
             "#bd3786"
            ],
            [
             0.5555555555555556,
             "#d8576b"
            ],
            [
             0.6666666666666666,
             "#ed7953"
            ],
            [
             0.7777777777777778,
             "#fb9f3a"
            ],
            [
             0.8888888888888888,
             "#fdca26"
            ],
            [
             1,
             "#f0f921"
            ]
           ]
          },
          "colorway": [
           "#636efa",
           "#EF553B",
           "#00cc96",
           "#ab63fa",
           "#FFA15A",
           "#19d3f3",
           "#FF6692",
           "#B6E880",
           "#FF97FF",
           "#FECB52"
          ],
          "font": {
           "color": "#2a3f5f"
          },
          "geo": {
           "bgcolor": "white",
           "lakecolor": "white",
           "landcolor": "#E5ECF6",
           "showlakes": true,
           "showland": true,
           "subunitcolor": "white"
          },
          "hoverlabel": {
           "align": "left"
          },
          "hovermode": "closest",
          "mapbox": {
           "style": "light"
          },
          "paper_bgcolor": "white",
          "plot_bgcolor": "#E5ECF6",
          "polar": {
           "angularaxis": {
            "gridcolor": "white",
            "linecolor": "white",
            "ticks": ""
           },
           "bgcolor": "#E5ECF6",
           "radialaxis": {
            "gridcolor": "white",
            "linecolor": "white",
            "ticks": ""
           }
          },
          "scene": {
           "xaxis": {
            "backgroundcolor": "#E5ECF6",
            "gridcolor": "white",
            "gridwidth": 2,
            "linecolor": "white",
            "showbackground": true,
            "ticks": "",
            "zerolinecolor": "white"
           },
           "yaxis": {
            "backgroundcolor": "#E5ECF6",
            "gridcolor": "white",
            "gridwidth": 2,
            "linecolor": "white",
            "showbackground": true,
            "ticks": "",
            "zerolinecolor": "white"
           },
           "zaxis": {
            "backgroundcolor": "#E5ECF6",
            "gridcolor": "white",
            "gridwidth": 2,
            "linecolor": "white",
            "showbackground": true,
            "ticks": "",
            "zerolinecolor": "white"
           }
          },
          "shapedefaults": {
           "line": {
            "color": "#2a3f5f"
           }
          },
          "ternary": {
           "aaxis": {
            "gridcolor": "white",
            "linecolor": "white",
            "ticks": ""
           },
           "baxis": {
            "gridcolor": "white",
            "linecolor": "white",
            "ticks": ""
           },
           "bgcolor": "#E5ECF6",
           "caxis": {
            "gridcolor": "white",
            "linecolor": "white",
            "ticks": ""
           }
          },
          "title": {
           "x": 0.05
          },
          "xaxis": {
           "automargin": true,
           "gridcolor": "white",
           "linecolor": "white",
           "ticks": "",
           "title": {
            "standoff": 15
           },
           "zerolinecolor": "white",
           "zerolinewidth": 2
          },
          "yaxis": {
           "automargin": true,
           "gridcolor": "white",
           "linecolor": "white",
           "ticks": "",
           "title": {
            "standoff": 15
           },
           "zerolinecolor": "white",
           "zerolinewidth": 2
          }
         }
        },
        "xaxis": {
         "anchor": "y",
         "domain": [
          0,
          1
         ],
         "title": {
          "text": "Date"
         }
        },
        "yaxis": {
         "anchor": "x",
         "domain": [
          0,
          1
         ],
         "title": {
          "text": "value"
         }
        }
       }
      },
      "text/html": [
       "<div>                            <div id=\"1c42ae74-438b-41fd-aaa8-d2795b3bba55\" class=\"plotly-graph-div\" style=\"height:525px; width:100%;\"></div>            <script type=\"text/javascript\">                require([\"plotly\"], function(Plotly) {                    window.PLOTLYENV=window.PLOTLYENV || {};                                    if (document.getElementById(\"1c42ae74-438b-41fd-aaa8-d2795b3bba55\")) {                    Plotly.newPlot(                        \"1c42ae74-438b-41fd-aaa8-d2795b3bba55\",                        [{\"hovertemplate\":\"variable=Close<br>Date=%{x}<br>value=%{y}<extra></extra>\",\"legendgroup\":\"Close\",\"line\":{\"color\":\"#636efa\",\"dash\":\"solid\"},\"marker\":{\"symbol\":\"circle\"},\"mode\":\"lines\",\"name\":\"Close\",\"orientation\":\"v\",\"showlegend\":true,\"x\":[\"1971-03-23T00:00:00\",\"1971-03-24T00:00:00\",\"1971-03-25T00:00:00\",\"1971-03-26T00:00:00\",\"1971-03-29T00:00:00\",\"1971-03-30T00:00:00\",\"1971-03-31T00:00:00\",\"1971-04-01T00:00:00\",\"1971-04-02T00:00:00\",\"1971-04-05T00:00:00\",\"1971-04-06T00:00:00\",\"1971-04-07T00:00:00\",\"1971-04-08T00:00:00\",\"1971-04-12T00:00:00\",\"1971-04-13T00:00:00\",\"1971-04-14T00:00:00\",\"1971-04-15T00:00:00\",\"1971-04-16T00:00:00\",\"1971-04-19T00:00:00\",\"1971-04-20T00:00:00\",\"1971-04-21T00:00:00\",\"1971-04-22T00:00:00\",\"1971-04-23T00:00:00\",\"1971-04-26T00:00:00\",\"1971-04-27T00:00:00\",\"1971-04-28T00:00:00\",\"1971-04-29T00:00:00\",\"1971-04-30T00:00:00\",\"1971-05-03T00:00:00\",\"1971-05-04T00:00:00\",\"1971-05-05T00:00:00\",\"1971-05-06T00:00:00\",\"1971-05-07T00:00:00\",\"1971-05-10T00:00:00\",\"1971-05-11T00:00:00\",\"1971-05-12T00:00:00\",\"1971-05-13T00:00:00\",\"1971-05-14T00:00:00\",\"1971-05-17T00:00:00\",\"1971-05-18T00:00:00\",\"1971-05-19T00:00:00\",\"1971-05-20T00:00:00\",\"1971-05-21T00:00:00\",\"1971-05-24T00:00:00\",\"1971-05-25T00:00:00\",\"1971-05-26T00:00:00\",\"1971-05-27T00:00:00\",\"1971-05-28T00:00:00\",\"1971-06-01T00:00:00\",\"1971-06-02T00:00:00\",\"1971-06-03T00:00:00\",\"1971-06-04T00:00:00\",\"1971-06-07T00:00:00\",\"1971-06-08T00:00:00\",\"1971-06-09T00:00:00\",\"1971-06-10T00:00:00\",\"1971-06-11T00:00:00\",\"1971-06-14T00:00:00\",\"1971-06-15T00:00:00\",\"1971-06-16T00:00:00\",\"1971-06-17T00:00:00\",\"1971-06-18T00:00:00\",\"1971-06-21T00:00:00\",\"1971-06-22T00:00:00\",\"1971-06-23T00:00:00\",\"1971-06-24T00:00:00\",\"1971-06-25T00:00:00\",\"1971-06-28T00:00:00\",\"1971-06-29T00:00:00\",\"1971-06-30T00:00:00\",\"1971-07-01T00:00:00\",\"1971-07-02T00:00:00\",\"1971-07-06T00:00:00\",\"1971-07-07T00:00:00\",\"1971-07-08T00:00:00\",\"1971-07-09T00:00:00\",\"1971-07-12T00:00:00\",\"1971-07-13T00:00:00\",\"1971-07-14T00:00:00\",\"1971-07-15T00:00:00\",\"1971-07-16T00:00:00\",\"1971-07-19T00:00:00\",\"1971-07-20T00:00:00\",\"1971-07-21T00:00:00\",\"1971-07-22T00:00:00\",\"1971-07-23T00:00:00\",\"1971-07-26T00:00:00\",\"1971-07-27T00:00:00\",\"1971-07-28T00:00:00\",\"1971-07-29T00:00:00\",\"1971-07-30T00:00:00\",\"1971-08-02T00:00:00\",\"1971-08-03T00:00:00\",\"1971-08-04T00:00:00\",\"1971-08-05T00:00:00\",\"1971-08-06T00:00:00\",\"1971-08-09T00:00:00\",\"1971-08-10T00:00:00\",\"1971-08-11T00:00:00\",\"1971-08-12T00:00:00\",\"1971-08-13T00:00:00\",\"1971-08-16T00:00:00\",\"1971-08-17T00:00:00\",\"1971-08-18T00:00:00\",\"1971-08-19T00:00:00\",\"1971-08-20T00:00:00\",\"1971-08-23T00:00:00\",\"1971-08-24T00:00:00\",\"1971-08-25T00:00:00\",\"1971-08-26T00:00:00\",\"1971-08-27T00:00:00\",\"1971-08-30T00:00:00\",\"1971-08-31T00:00:00\",\"1971-09-01T00:00:00\",\"1971-09-02T00:00:00\",\"1971-09-03T00:00:00\",\"1971-09-07T00:00:00\",\"1971-09-08T00:00:00\",\"1971-09-09T00:00:00\",\"1971-09-10T00:00:00\",\"1971-09-13T00:00:00\",\"1971-09-14T00:00:00\",\"1971-09-15T00:00:00\",\"1971-09-16T00:00:00\",\"1971-09-17T00:00:00\",\"1971-09-20T00:00:00\",\"1971-09-21T00:00:00\",\"1971-09-22T00:00:00\",\"1971-09-23T00:00:00\",\"1971-09-24T00:00:00\",\"1971-09-27T00:00:00\",\"1971-09-28T00:00:00\",\"1971-09-29T00:00:00\",\"1971-09-30T00:00:00\",\"1971-10-01T00:00:00\",\"1971-10-04T00:00:00\",\"1971-10-05T00:00:00\",\"1971-10-06T00:00:00\",\"1971-10-07T00:00:00\",\"1971-10-08T00:00:00\",\"1971-10-11T00:00:00\",\"1971-10-12T00:00:00\",\"1971-10-13T00:00:00\",\"1971-10-14T00:00:00\",\"1971-10-15T00:00:00\",\"1971-10-18T00:00:00\",\"1971-10-19T00:00:00\",\"1971-10-20T00:00:00\",\"1971-10-21T00:00:00\",\"1971-10-22T00:00:00\",\"1971-10-25T00:00:00\",\"1971-10-26T00:00:00\",\"1971-10-27T00:00:00\",\"1971-10-28T00:00:00\",\"1971-10-29T00:00:00\",\"1971-11-01T00:00:00\",\"1971-11-02T00:00:00\",\"1971-11-03T00:00:00\",\"1971-11-04T00:00:00\",\"1971-11-05T00:00:00\",\"1971-11-08T00:00:00\",\"1971-11-09T00:00:00\",\"1971-11-10T00:00:00\",\"1971-11-11T00:00:00\",\"1971-11-12T00:00:00\",\"1971-11-15T00:00:00\",\"1971-11-16T00:00:00\",\"1971-11-17T00:00:00\",\"1971-11-18T00:00:00\",\"1971-11-19T00:00:00\",\"1971-11-22T00:00:00\",\"1971-11-23T00:00:00\",\"1971-11-24T00:00:00\",\"1971-11-26T00:00:00\",\"1971-11-29T00:00:00\",\"1971-11-30T00:00:00\",\"1971-12-01T00:00:00\",\"1971-12-02T00:00:00\",\"1971-12-03T00:00:00\",\"1971-12-06T00:00:00\",\"1971-12-07T00:00:00\",\"1971-12-08T00:00:00\",\"1971-12-09T00:00:00\",\"1971-12-10T00:00:00\",\"1971-12-13T00:00:00\",\"1971-12-14T00:00:00\",\"1971-12-15T00:00:00\",\"1971-12-16T00:00:00\",\"1971-12-17T00:00:00\",\"1971-12-20T00:00:00\",\"1971-12-21T00:00:00\",\"1971-12-22T00:00:00\",\"1971-12-23T00:00:00\",\"1971-12-27T00:00:00\",\"1971-12-28T00:00:00\",\"1971-12-29T00:00:00\",\"1971-12-30T00:00:00\",\"1971-12-31T00:00:00\",\"1972-01-03T00:00:00\",\"1972-01-04T00:00:00\",\"1972-01-05T00:00:00\",\"1972-01-06T00:00:00\",\"1972-01-07T00:00:00\",\"1972-01-10T00:00:00\",\"1972-01-11T00:00:00\",\"1972-01-12T00:00:00\",\"1972-01-13T00:00:00\",\"1972-01-14T00:00:00\",\"1972-01-17T00:00:00\",\"1972-01-18T00:00:00\",\"1972-01-19T00:00:00\",\"1972-01-20T00:00:00\",\"1972-01-21T00:00:00\",\"1972-01-24T00:00:00\",\"1972-01-25T00:00:00\",\"1972-01-26T00:00:00\",\"1972-01-27T00:00:00\",\"1972-01-28T00:00:00\",\"1972-01-31T00:00:00\",\"1972-02-01T00:00:00\",\"1972-02-02T00:00:00\",\"1972-02-03T00:00:00\",\"1972-02-04T00:00:00\",\"1972-02-07T00:00:00\",\"1972-02-08T00:00:00\",\"1972-02-09T00:00:00\",\"1972-02-10T00:00:00\",\"1972-02-11T00:00:00\",\"1972-02-14T00:00:00\",\"1972-02-15T00:00:00\",\"1972-02-16T00:00:00\",\"1972-02-17T00:00:00\",\"1972-02-18T00:00:00\",\"1972-02-22T00:00:00\",\"1972-02-23T00:00:00\",\"1972-02-24T00:00:00\",\"1972-02-25T00:00:00\",\"1972-02-28T00:00:00\",\"1972-02-29T00:00:00\",\"1972-03-01T00:00:00\",\"1972-03-02T00:00:00\",\"1972-03-03T00:00:00\",\"1972-03-06T00:00:00\",\"1972-03-07T00:00:00\",\"1972-03-08T00:00:00\",\"1972-03-09T00:00:00\",\"1972-03-10T00:00:00\",\"1972-03-13T00:00:00\",\"1972-03-14T00:00:00\",\"1972-03-15T00:00:00\",\"1972-03-16T00:00:00\",\"1972-03-17T00:00:00\",\"1972-03-20T00:00:00\",\"1972-03-21T00:00:00\",\"1972-03-22T00:00:00\",\"1972-03-23T00:00:00\",\"1972-03-24T00:00:00\",\"1972-03-27T00:00:00\",\"1972-03-28T00:00:00\"],\"xaxis\":\"x\",\"y\":[100.28,99.62,99.61,99.95,100.03,100.26,100.31,100.39,100.56,100.79,101.51,101.98,102.1,102.88,102.98,103.37,103.52,103.49,104.01,103.61,103.36,103.56,104.05,103.94,104.59,104.77,104.63,103.95,103.29,103.79,103.78,103.23,102.87,102.36,102.62,102.9,102.69,102.21,100.69,100.83,101.07,101.31,100.99,100.13,99.47,99.59,99.4,99.63,100.2,100.96,101.01,101.3,101.09,100.32,100.29,100.64,101.07,100.22,100.32,100.52,100.5,98.97,97.87,97.59,98.41,98.13,97.99,97.74,98.82,98.7,99.78,99.78,99.76,100.04,100.34,100.69,100.82,99.5,99.22,99.28,99.11,98.93,99.32,99.28,99.11,98.94,98.14,97.78,97.07,96.02,95.58,95.96,94.51,93.89,94.09,94.25,93.53,93.54,94.66,96.0,95.69,98.76,99.99,98.6,98.16,98.33,99.25,100.4,100.41,100.24,100.48,99.52,99.03,99.07,99.29,100.69,101.15,101.34,100.8,100.42,100.07,99.34,99.77,99.66,99.96,99.68,99.34,98.47,98.38,98.15,97.62,97.88,97.9,98.34,98.93,99.21,99.11,99.82,100.02,99.36,99.21,99.57,99.03,98.13,97.79,97.35,97.0,95.65,95.6,95.57,95.1,94.74,93.79,93.96,94.23,92.8,93.18,94.91,94.79,94.46,94.39,94.46,93.41,92.12,92.12,91.81,92.71,92.85,92.13,91.61,90.79,90.16,90.33,91.94,93.41,93.99,95.44,95.84,97.06,96.51,96.87,96.92,96.96,97.69,97.97,97.67,98.54,99.74,100.26,101.55,101.8,101.18,100.74,100.95,101.95,102.21,101.78,102.09,101.67,102.09,103.06,103.51,103.47,103.32,103.65,103.59,102.99,103.39,103.7,104.05,103.88,103.88,103.65,102.57,102.7,102.5,103.5,104.16,103.94,104.01,104.68,104.64,104.86,104.54,104.74,105.55,105.59,105.08,104.59,105.03,105.62,105.59,105.28,105.29,105.38,105.45,106.18,106.19,106.57,107.35,107.32,107.94,108.77,108.87,108.96,108.94,108.38,107.33,107.61,107.75,107.5,107.92,107.59,106.69,106.84,107.75,107.52,107.3,107.17],\"yaxis\":\"y\",\"type\":\"scatter\"}],                        {\"template\":{\"data\":{\"histogram2dcontour\":[{\"type\":\"histogram2dcontour\",\"colorbar\":{\"outlinewidth\":0,\"ticks\":\"\"},\"colorscale\":[[0.0,\"#0d0887\"],[0.1111111111111111,\"#46039f\"],[0.2222222222222222,\"#7201a8\"],[0.3333333333333333,\"#9c179e\"],[0.4444444444444444,\"#bd3786\"],[0.5555555555555556,\"#d8576b\"],[0.6666666666666666,\"#ed7953\"],[0.7777777777777778,\"#fb9f3a\"],[0.8888888888888888,\"#fdca26\"],[1.0,\"#f0f921\"]]}],\"choropleth\":[{\"type\":\"choropleth\",\"colorbar\":{\"outlinewidth\":0,\"ticks\":\"\"}}],\"histogram2d\":[{\"type\":\"histogram2d\",\"colorbar\":{\"outlinewidth\":0,\"ticks\":\"\"},\"colorscale\":[[0.0,\"#0d0887\"],[0.1111111111111111,\"#46039f\"],[0.2222222222222222,\"#7201a8\"],[0.3333333333333333,\"#9c179e\"],[0.4444444444444444,\"#bd3786\"],[0.5555555555555556,\"#d8576b\"],[0.6666666666666666,\"#ed7953\"],[0.7777777777777778,\"#fb9f3a\"],[0.8888888888888888,\"#fdca26\"],[1.0,\"#f0f921\"]]}],\"heatmap\":[{\"type\":\"heatmap\",\"colorbar\":{\"outlinewidth\":0,\"ticks\":\"\"},\"colorscale\":[[0.0,\"#0d0887\"],[0.1111111111111111,\"#46039f\"],[0.2222222222222222,\"#7201a8\"],[0.3333333333333333,\"#9c179e\"],[0.4444444444444444,\"#bd3786\"],[0.5555555555555556,\"#d8576b\"],[0.6666666666666666,\"#ed7953\"],[0.7777777777777778,\"#fb9f3a\"],[0.8888888888888888,\"#fdca26\"],[1.0,\"#f0f921\"]]}],\"heatmapgl\":[{\"type\":\"heatmapgl\",\"colorbar\":{\"outlinewidth\":0,\"ticks\":\"\"},\"colorscale\":[[0.0,\"#0d0887\"],[0.1111111111111111,\"#46039f\"],[0.2222222222222222,\"#7201a8\"],[0.3333333333333333,\"#9c179e\"],[0.4444444444444444,\"#bd3786\"],[0.5555555555555556,\"#d8576b\"],[0.6666666666666666,\"#ed7953\"],[0.7777777777777778,\"#fb9f3a\"],[0.8888888888888888,\"#fdca26\"],[1.0,\"#f0f921\"]]}],\"contourcarpet\":[{\"type\":\"contourcarpet\",\"colorbar\":{\"outlinewidth\":0,\"ticks\":\"\"}}],\"contour\":[{\"type\":\"contour\",\"colorbar\":{\"outlinewidth\":0,\"ticks\":\"\"},\"colorscale\":[[0.0,\"#0d0887\"],[0.1111111111111111,\"#46039f\"],[0.2222222222222222,\"#7201a8\"],[0.3333333333333333,\"#9c179e\"],[0.4444444444444444,\"#bd3786\"],[0.5555555555555556,\"#d8576b\"],[0.6666666666666666,\"#ed7953\"],[0.7777777777777778,\"#fb9f3a\"],[0.8888888888888888,\"#fdca26\"],[1.0,\"#f0f921\"]]}],\"surface\":[{\"type\":\"surface\",\"colorbar\":{\"outlinewidth\":0,\"ticks\":\"\"},\"colorscale\":[[0.0,\"#0d0887\"],[0.1111111111111111,\"#46039f\"],[0.2222222222222222,\"#7201a8\"],[0.3333333333333333,\"#9c179e\"],[0.4444444444444444,\"#bd3786\"],[0.5555555555555556,\"#d8576b\"],[0.6666666666666666,\"#ed7953\"],[0.7777777777777778,\"#fb9f3a\"],[0.8888888888888888,\"#fdca26\"],[1.0,\"#f0f921\"]]}],\"mesh3d\":[{\"type\":\"mesh3d\",\"colorbar\":{\"outlinewidth\":0,\"ticks\":\"\"}}],\"scatter\":[{\"fillpattern\":{\"fillmode\":\"overlay\",\"size\":10,\"solidity\":0.2},\"type\":\"scatter\"}],\"parcoords\":[{\"type\":\"parcoords\",\"line\":{\"colorbar\":{\"outlinewidth\":0,\"ticks\":\"\"}}}],\"scatterpolargl\":[{\"type\":\"scatterpolargl\",\"marker\":{\"colorbar\":{\"outlinewidth\":0,\"ticks\":\"\"}}}],\"bar\":[{\"error_x\":{\"color\":\"#2a3f5f\"},\"error_y\":{\"color\":\"#2a3f5f\"},\"marker\":{\"line\":{\"color\":\"#E5ECF6\",\"width\":0.5},\"pattern\":{\"fillmode\":\"overlay\",\"size\":10,\"solidity\":0.2}},\"type\":\"bar\"}],\"scattergeo\":[{\"type\":\"scattergeo\",\"marker\":{\"colorbar\":{\"outlinewidth\":0,\"ticks\":\"\"}}}],\"scatterpolar\":[{\"type\":\"scatterpolar\",\"marker\":{\"colorbar\":{\"outlinewidth\":0,\"ticks\":\"\"}}}],\"histogram\":[{\"marker\":{\"pattern\":{\"fillmode\":\"overlay\",\"size\":10,\"solidity\":0.2}},\"type\":\"histogram\"}],\"scattergl\":[{\"type\":\"scattergl\",\"marker\":{\"colorbar\":{\"outlinewidth\":0,\"ticks\":\"\"}}}],\"scatter3d\":[{\"type\":\"scatter3d\",\"line\":{\"colorbar\":{\"outlinewidth\":0,\"ticks\":\"\"}},\"marker\":{\"colorbar\":{\"outlinewidth\":0,\"ticks\":\"\"}}}],\"scattermapbox\":[{\"type\":\"scattermapbox\",\"marker\":{\"colorbar\":{\"outlinewidth\":0,\"ticks\":\"\"}}}],\"scatterternary\":[{\"type\":\"scatterternary\",\"marker\":{\"colorbar\":{\"outlinewidth\":0,\"ticks\":\"\"}}}],\"scattercarpet\":[{\"type\":\"scattercarpet\",\"marker\":{\"colorbar\":{\"outlinewidth\":0,\"ticks\":\"\"}}}],\"carpet\":[{\"aaxis\":{\"endlinecolor\":\"#2a3f5f\",\"gridcolor\":\"white\",\"linecolor\":\"white\",\"minorgridcolor\":\"white\",\"startlinecolor\":\"#2a3f5f\"},\"baxis\":{\"endlinecolor\":\"#2a3f5f\",\"gridcolor\":\"white\",\"linecolor\":\"white\",\"minorgridcolor\":\"white\",\"startlinecolor\":\"#2a3f5f\"},\"type\":\"carpet\"}],\"table\":[{\"cells\":{\"fill\":{\"color\":\"#EBF0F8\"},\"line\":{\"color\":\"white\"}},\"header\":{\"fill\":{\"color\":\"#C8D4E3\"},\"line\":{\"color\":\"white\"}},\"type\":\"table\"}],\"barpolar\":[{\"marker\":{\"line\":{\"color\":\"#E5ECF6\",\"width\":0.5},\"pattern\":{\"fillmode\":\"overlay\",\"size\":10,\"solidity\":0.2}},\"type\":\"barpolar\"}],\"pie\":[{\"automargin\":true,\"type\":\"pie\"}]},\"layout\":{\"autotypenumbers\":\"strict\",\"colorway\":[\"#636efa\",\"#EF553B\",\"#00cc96\",\"#ab63fa\",\"#FFA15A\",\"#19d3f3\",\"#FF6692\",\"#B6E880\",\"#FF97FF\",\"#FECB52\"],\"font\":{\"color\":\"#2a3f5f\"},\"hovermode\":\"closest\",\"hoverlabel\":{\"align\":\"left\"},\"paper_bgcolor\":\"white\",\"plot_bgcolor\":\"#E5ECF6\",\"polar\":{\"bgcolor\":\"#E5ECF6\",\"angularaxis\":{\"gridcolor\":\"white\",\"linecolor\":\"white\",\"ticks\":\"\"},\"radialaxis\":{\"gridcolor\":\"white\",\"linecolor\":\"white\",\"ticks\":\"\"}},\"ternary\":{\"bgcolor\":\"#E5ECF6\",\"aaxis\":{\"gridcolor\":\"white\",\"linecolor\":\"white\",\"ticks\":\"\"},\"baxis\":{\"gridcolor\":\"white\",\"linecolor\":\"white\",\"ticks\":\"\"},\"caxis\":{\"gridcolor\":\"white\",\"linecolor\":\"white\",\"ticks\":\"\"}},\"coloraxis\":{\"colorbar\":{\"outlinewidth\":0,\"ticks\":\"\"}},\"colorscale\":{\"sequential\":[[0.0,\"#0d0887\"],[0.1111111111111111,\"#46039f\"],[0.2222222222222222,\"#7201a8\"],[0.3333333333333333,\"#9c179e\"],[0.4444444444444444,\"#bd3786\"],[0.5555555555555556,\"#d8576b\"],[0.6666666666666666,\"#ed7953\"],[0.7777777777777778,\"#fb9f3a\"],[0.8888888888888888,\"#fdca26\"],[1.0,\"#f0f921\"]],\"sequentialminus\":[[0.0,\"#0d0887\"],[0.1111111111111111,\"#46039f\"],[0.2222222222222222,\"#7201a8\"],[0.3333333333333333,\"#9c179e\"],[0.4444444444444444,\"#bd3786\"],[0.5555555555555556,\"#d8576b\"],[0.6666666666666666,\"#ed7953\"],[0.7777777777777778,\"#fb9f3a\"],[0.8888888888888888,\"#fdca26\"],[1.0,\"#f0f921\"]],\"diverging\":[[0,\"#8e0152\"],[0.1,\"#c51b7d\"],[0.2,\"#de77ae\"],[0.3,\"#f1b6da\"],[0.4,\"#fde0ef\"],[0.5,\"#f7f7f7\"],[0.6,\"#e6f5d0\"],[0.7,\"#b8e186\"],[0.8,\"#7fbc41\"],[0.9,\"#4d9221\"],[1,\"#276419\"]]},\"xaxis\":{\"gridcolor\":\"white\",\"linecolor\":\"white\",\"ticks\":\"\",\"title\":{\"standoff\":15},\"zerolinecolor\":\"white\",\"automargin\":true,\"zerolinewidth\":2},\"yaxis\":{\"gridcolor\":\"white\",\"linecolor\":\"white\",\"ticks\":\"\",\"title\":{\"standoff\":15},\"zerolinecolor\":\"white\",\"automargin\":true,\"zerolinewidth\":2},\"scene\":{\"xaxis\":{\"backgroundcolor\":\"#E5ECF6\",\"gridcolor\":\"white\",\"linecolor\":\"white\",\"showbackground\":true,\"ticks\":\"\",\"zerolinecolor\":\"white\",\"gridwidth\":2},\"yaxis\":{\"backgroundcolor\":\"#E5ECF6\",\"gridcolor\":\"white\",\"linecolor\":\"white\",\"showbackground\":true,\"ticks\":\"\",\"zerolinecolor\":\"white\",\"gridwidth\":2},\"zaxis\":{\"backgroundcolor\":\"#E5ECF6\",\"gridcolor\":\"white\",\"linecolor\":\"white\",\"showbackground\":true,\"ticks\":\"\",\"zerolinecolor\":\"white\",\"gridwidth\":2}},\"shapedefaults\":{\"line\":{\"color\":\"#2a3f5f\"}},\"annotationdefaults\":{\"arrowcolor\":\"#2a3f5f\",\"arrowhead\":0,\"arrowwidth\":1},\"geo\":{\"bgcolor\":\"white\",\"landcolor\":\"#E5ECF6\",\"subunitcolor\":\"white\",\"showland\":true,\"showlakes\":true,\"lakecolor\":\"white\"},\"title\":{\"x\":0.05},\"mapbox\":{\"style\":\"light\"}}},\"xaxis\":{\"anchor\":\"y\",\"domain\":[0.0,1.0],\"title\":{\"text\":\"Date\"}},\"yaxis\":{\"anchor\":\"x\",\"domain\":[0.0,1.0],\"title\":{\"text\":\"value\"}},\"legend\":{\"title\":{\"text\":\"variable\"},\"tracegroupgap\":0},\"margin\":{\"t\":60}},                        {\"responsive\": true}                    ).then(function(){\n",
       "                            \n",
       "var gd = document.getElementById('1c42ae74-438b-41fd-aaa8-d2795b3bba55');\n",
       "var x = new MutationObserver(function (mutations, observer) {{\n",
       "        var display = window.getComputedStyle(gd).display;\n",
       "        if (!display || display === 'none') {{\n",
       "            console.log([gd, 'removed!']);\n",
       "            Plotly.purge(gd);\n",
       "            observer.disconnect();\n",
       "        }}\n",
       "}});\n",
       "\n",
       "// Listen for the removal of the full notebook cells\n",
       "var notebookContainer = gd.closest('#notebook-container');\n",
       "if (notebookContainer) {{\n",
       "    x.observe(notebookContainer, {childList: true});\n",
       "}}\n",
       "\n",
       "// Listen for the clearing of the current output cell\n",
       "var outputEl = gd.closest('.output');\n",
       "if (outputEl) {{\n",
       "    x.observe(outputEl, {childList: true});\n",
       "}}\n",
       "\n",
       "                        })                };                });            </script>        </div>"
      ]
     },
     "metadata": {},
     "output_type": "display_data"
    }
   ],
   "source": [
    "period_start_date, period_end_date = '1971-03-23', '1971-10-20'\n",
    "extra_charting_sessions = 160\n",
    "\n",
    "chart_start_date = dt.datetime.strptime(period_start_date+' 00:00:00', '%Y-%m-%d %H:%M:%S')\n",
    "chart_end_date = dt.datetime.strptime(period_end_date+' 00:00:00', '%Y-%m-%d %H:%M:%S') + dt.timedelta(extra_charting_sessions)\n",
    "df1 = df[df.Date.between(chart_start_date, chart_end_date)]\n",
    "df1.set_index('Date', inplace=True)\n",
    "fig = px.line(df1.Close)\n",
    "fig.show()"
   ]
  },
  {
   "cell_type": "code",
   "execution_count": null,
   "id": "e41fb3ad",
   "metadata": {},
   "outputs": [],
   "source": []
  }
 ],
 "metadata": {
  "kernelspec": {
   "display_name": "Python 3 (ipykernel)",
   "language": "python",
   "name": "python3"
  },
  "language_info": {
   "codemirror_mode": {
    "name": "ipython",
    "version": 3
   },
   "file_extension": ".py",
   "mimetype": "text/x-python",
   "name": "python",
   "nbconvert_exporter": "python",
   "pygments_lexer": "ipython3",
   "version": "3.10.4"
  }
 },
 "nbformat": 4,
 "nbformat_minor": 5
}
